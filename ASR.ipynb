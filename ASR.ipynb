{
  "nbformat": 4,
  "nbformat_minor": 0,
  "metadata": {
    "accelerator": "GPU",
    "colab": {
      "name": "ASR.ipynb",
      "provenance": [],
      "collapsed_sections": []
    },
    "kernelspec": {
      "display_name": "Python 3",
      "name": "python3"
    },
    "language_info": {
      "name": "python"
    },
    "widgets": {
      "application/vnd.jupyter.widget-state+json": {
        "6f7f30ece844442a9cda4d8a2b93b4d2": {
          "model_module": "@jupyter-widgets/controls",
          "model_name": "HBoxModel",
          "state": {
            "_view_name": "HBoxView",
            "_dom_classes": [],
            "_model_name": "HBoxModel",
            "_view_module": "@jupyter-widgets/controls",
            "_model_module_version": "1.5.0",
            "_view_count": null,
            "_view_module_version": "1.5.0",
            "box_style": "",
            "layout": "IPY_MODEL_344d00ccd3844675a01abf9238a708d9",
            "_model_module": "@jupyter-widgets/controls",
            "children": [
              "IPY_MODEL_2ae7a0b8f30e411ebb86def294111012",
              "IPY_MODEL_ec4811df6194455c989f7203b92cbf7e"
            ]
          }
        },
        "344d00ccd3844675a01abf9238a708d9": {
          "model_module": "@jupyter-widgets/base",
          "model_name": "LayoutModel",
          "state": {
            "_view_name": "LayoutView",
            "grid_template_rows": null,
            "right": null,
            "justify_content": null,
            "_view_module": "@jupyter-widgets/base",
            "overflow": null,
            "_model_module_version": "1.2.0",
            "_view_count": null,
            "flex_flow": null,
            "width": null,
            "min_width": null,
            "border": null,
            "align_items": null,
            "bottom": null,
            "_model_module": "@jupyter-widgets/base",
            "top": null,
            "grid_column": null,
            "overflow_y": null,
            "overflow_x": null,
            "grid_auto_flow": null,
            "grid_area": null,
            "grid_template_columns": null,
            "flex": null,
            "_model_name": "LayoutModel",
            "justify_items": null,
            "grid_row": null,
            "max_height": null,
            "align_content": null,
            "visibility": null,
            "align_self": null,
            "height": null,
            "min_height": null,
            "padding": null,
            "grid_auto_rows": null,
            "grid_gap": null,
            "max_width": null,
            "order": null,
            "_view_module_version": "1.2.0",
            "grid_template_areas": null,
            "object_position": null,
            "object_fit": null,
            "grid_auto_columns": null,
            "margin": null,
            "display": null,
            "left": null
          }
        },
        "2ae7a0b8f30e411ebb86def294111012": {
          "model_module": "@jupyter-widgets/controls",
          "model_name": "FloatProgressModel",
          "state": {
            "_view_name": "ProgressView",
            "style": "IPY_MODEL_7ace3464922f41ebb7defe6d304a7ab2",
            "_dom_classes": [],
            "description": "100%",
            "_model_name": "FloatProgressModel",
            "bar_style": "success",
            "max": 10,
            "_view_module": "@jupyter-widgets/controls",
            "_model_module_version": "1.5.0",
            "value": 10,
            "_view_count": null,
            "_view_module_version": "1.5.0",
            "orientation": "horizontal",
            "min": 0,
            "description_tooltip": null,
            "_model_module": "@jupyter-widgets/controls",
            "layout": "IPY_MODEL_82d533ba6d524f458ed7586ecad02568"
          }
        },
        "ec4811df6194455c989f7203b92cbf7e": {
          "model_module": "@jupyter-widgets/controls",
          "model_name": "HTMLModel",
          "state": {
            "_view_name": "HTMLView",
            "style": "IPY_MODEL_773addae8f5747f58f7e030d4e546877",
            "_dom_classes": [],
            "description": "",
            "_model_name": "HTMLModel",
            "placeholder": "​",
            "_view_module": "@jupyter-widgets/controls",
            "_model_module_version": "1.5.0",
            "value": " 10/10 [01:45&lt;00:00, 10.54s/ex]",
            "_view_count": null,
            "_view_module_version": "1.5.0",
            "description_tooltip": null,
            "_model_module": "@jupyter-widgets/controls",
            "layout": "IPY_MODEL_7e8d0180e6fa4ba28f5999c71a8eec11"
          }
        },
        "7ace3464922f41ebb7defe6d304a7ab2": {
          "model_module": "@jupyter-widgets/controls",
          "model_name": "ProgressStyleModel",
          "state": {
            "_view_name": "StyleView",
            "_model_name": "ProgressStyleModel",
            "description_width": "initial",
            "_view_module": "@jupyter-widgets/base",
            "_model_module_version": "1.5.0",
            "_view_count": null,
            "_view_module_version": "1.2.0",
            "bar_color": null,
            "_model_module": "@jupyter-widgets/controls"
          }
        },
        "82d533ba6d524f458ed7586ecad02568": {
          "model_module": "@jupyter-widgets/base",
          "model_name": "LayoutModel",
          "state": {
            "_view_name": "LayoutView",
            "grid_template_rows": null,
            "right": null,
            "justify_content": null,
            "_view_module": "@jupyter-widgets/base",
            "overflow": null,
            "_model_module_version": "1.2.0",
            "_view_count": null,
            "flex_flow": null,
            "width": null,
            "min_width": null,
            "border": null,
            "align_items": null,
            "bottom": null,
            "_model_module": "@jupyter-widgets/base",
            "top": null,
            "grid_column": null,
            "overflow_y": null,
            "overflow_x": null,
            "grid_auto_flow": null,
            "grid_area": null,
            "grid_template_columns": null,
            "flex": null,
            "_model_name": "LayoutModel",
            "justify_items": null,
            "grid_row": null,
            "max_height": null,
            "align_content": null,
            "visibility": null,
            "align_self": null,
            "height": null,
            "min_height": null,
            "padding": null,
            "grid_auto_rows": null,
            "grid_gap": null,
            "max_width": null,
            "order": null,
            "_view_module_version": "1.2.0",
            "grid_template_areas": null,
            "object_position": null,
            "object_fit": null,
            "grid_auto_columns": null,
            "margin": null,
            "display": null,
            "left": null
          }
        },
        "773addae8f5747f58f7e030d4e546877": {
          "model_module": "@jupyter-widgets/controls",
          "model_name": "DescriptionStyleModel",
          "state": {
            "_view_name": "StyleView",
            "_model_name": "DescriptionStyleModel",
            "description_width": "",
            "_view_module": "@jupyter-widgets/base",
            "_model_module_version": "1.5.0",
            "_view_count": null,
            "_view_module_version": "1.2.0",
            "_model_module": "@jupyter-widgets/controls"
          }
        },
        "7e8d0180e6fa4ba28f5999c71a8eec11": {
          "model_module": "@jupyter-widgets/base",
          "model_name": "LayoutModel",
          "state": {
            "_view_name": "LayoutView",
            "grid_template_rows": null,
            "right": null,
            "justify_content": null,
            "_view_module": "@jupyter-widgets/base",
            "overflow": null,
            "_model_module_version": "1.2.0",
            "_view_count": null,
            "flex_flow": null,
            "width": null,
            "min_width": null,
            "border": null,
            "align_items": null,
            "bottom": null,
            "_model_module": "@jupyter-widgets/base",
            "top": null,
            "grid_column": null,
            "overflow_y": null,
            "overflow_x": null,
            "grid_auto_flow": null,
            "grid_area": null,
            "grid_template_columns": null,
            "flex": null,
            "_model_name": "LayoutModel",
            "justify_items": null,
            "grid_row": null,
            "max_height": null,
            "align_content": null,
            "visibility": null,
            "align_self": null,
            "height": null,
            "min_height": null,
            "padding": null,
            "grid_auto_rows": null,
            "grid_gap": null,
            "max_width": null,
            "order": null,
            "_view_module_version": "1.2.0",
            "grid_template_areas": null,
            "object_position": null,
            "object_fit": null,
            "grid_auto_columns": null,
            "margin": null,
            "display": null,
            "left": null
          }
        },
        "b25d432156a44941b6c97292bb508798": {
          "model_module": "@jupyter-widgets/controls",
          "model_name": "HBoxModel",
          "state": {
            "_view_name": "HBoxView",
            "_dom_classes": [],
            "_model_name": "HBoxModel",
            "_view_module": "@jupyter-widgets/controls",
            "_model_module_version": "1.5.0",
            "_view_count": null,
            "_view_module_version": "1.5.0",
            "box_style": "",
            "layout": "IPY_MODEL_54b318d16cc545ba9b115767305bc3f0",
            "_model_module": "@jupyter-widgets/controls",
            "children": [
              "IPY_MODEL_37c40ad6b0b94e6694a416aabaca19da",
              "IPY_MODEL_f7d7a34ec8904d29a6f2edbb71be5be3"
            ]
          }
        },
        "54b318d16cc545ba9b115767305bc3f0": {
          "model_module": "@jupyter-widgets/base",
          "model_name": "LayoutModel",
          "state": {
            "_view_name": "LayoutView",
            "grid_template_rows": null,
            "right": null,
            "justify_content": null,
            "_view_module": "@jupyter-widgets/base",
            "overflow": null,
            "_model_module_version": "1.2.0",
            "_view_count": null,
            "flex_flow": null,
            "width": null,
            "min_width": null,
            "border": null,
            "align_items": null,
            "bottom": null,
            "_model_module": "@jupyter-widgets/base",
            "top": null,
            "grid_column": null,
            "overflow_y": null,
            "overflow_x": null,
            "grid_auto_flow": null,
            "grid_area": null,
            "grid_template_columns": null,
            "flex": null,
            "_model_name": "LayoutModel",
            "justify_items": null,
            "grid_row": null,
            "max_height": null,
            "align_content": null,
            "visibility": null,
            "align_self": null,
            "height": null,
            "min_height": null,
            "padding": null,
            "grid_auto_rows": null,
            "grid_gap": null,
            "max_width": null,
            "order": null,
            "_view_module_version": "1.2.0",
            "grid_template_areas": null,
            "object_position": null,
            "object_fit": null,
            "grid_auto_columns": null,
            "margin": null,
            "display": null,
            "left": null
          }
        },
        "37c40ad6b0b94e6694a416aabaca19da": {
          "model_module": "@jupyter-widgets/controls",
          "model_name": "FloatProgressModel",
          "state": {
            "_view_name": "ProgressView",
            "style": "IPY_MODEL_3628999651b54e4fab316529707f538c",
            "_dom_classes": [],
            "description": "100%",
            "_model_name": "FloatProgressModel",
            "bar_style": "success",
            "max": 10,
            "_view_module": "@jupyter-widgets/controls",
            "_model_module_version": "1.5.0",
            "value": 10,
            "_view_count": null,
            "_view_module_version": "1.5.0",
            "orientation": "horizontal",
            "min": 0,
            "description_tooltip": null,
            "_model_module": "@jupyter-widgets/controls",
            "layout": "IPY_MODEL_4a56bdf5b4d14741811d51c7fb2fcbce"
          }
        },
        "f7d7a34ec8904d29a6f2edbb71be5be3": {
          "model_module": "@jupyter-widgets/controls",
          "model_name": "HTMLModel",
          "state": {
            "_view_name": "HTMLView",
            "style": "IPY_MODEL_87a6abf0099b4f3799016dfc545c4b16",
            "_dom_classes": [],
            "description": "",
            "_model_name": "HTMLModel",
            "placeholder": "​",
            "_view_module": "@jupyter-widgets/controls",
            "_model_module_version": "1.5.0",
            "value": " 10/10 [00:02&lt;00:00,  4.07ex/s]",
            "_view_count": null,
            "_view_module_version": "1.5.0",
            "description_tooltip": null,
            "_model_module": "@jupyter-widgets/controls",
            "layout": "IPY_MODEL_cba02a28c9314eafbc95256c0072a3f2"
          }
        },
        "3628999651b54e4fab316529707f538c": {
          "model_module": "@jupyter-widgets/controls",
          "model_name": "ProgressStyleModel",
          "state": {
            "_view_name": "StyleView",
            "_model_name": "ProgressStyleModel",
            "description_width": "initial",
            "_view_module": "@jupyter-widgets/base",
            "_model_module_version": "1.5.0",
            "_view_count": null,
            "_view_module_version": "1.2.0",
            "bar_color": null,
            "_model_module": "@jupyter-widgets/controls"
          }
        },
        "4a56bdf5b4d14741811d51c7fb2fcbce": {
          "model_module": "@jupyter-widgets/base",
          "model_name": "LayoutModel",
          "state": {
            "_view_name": "LayoutView",
            "grid_template_rows": null,
            "right": null,
            "justify_content": null,
            "_view_module": "@jupyter-widgets/base",
            "overflow": null,
            "_model_module_version": "1.2.0",
            "_view_count": null,
            "flex_flow": null,
            "width": null,
            "min_width": null,
            "border": null,
            "align_items": null,
            "bottom": null,
            "_model_module": "@jupyter-widgets/base",
            "top": null,
            "grid_column": null,
            "overflow_y": null,
            "overflow_x": null,
            "grid_auto_flow": null,
            "grid_area": null,
            "grid_template_columns": null,
            "flex": null,
            "_model_name": "LayoutModel",
            "justify_items": null,
            "grid_row": null,
            "max_height": null,
            "align_content": null,
            "visibility": null,
            "align_self": null,
            "height": null,
            "min_height": null,
            "padding": null,
            "grid_auto_rows": null,
            "grid_gap": null,
            "max_width": null,
            "order": null,
            "_view_module_version": "1.2.0",
            "grid_template_areas": null,
            "object_position": null,
            "object_fit": null,
            "grid_auto_columns": null,
            "margin": null,
            "display": null,
            "left": null
          }
        },
        "87a6abf0099b4f3799016dfc545c4b16": {
          "model_module": "@jupyter-widgets/controls",
          "model_name": "DescriptionStyleModel",
          "state": {
            "_view_name": "StyleView",
            "_model_name": "DescriptionStyleModel",
            "description_width": "",
            "_view_module": "@jupyter-widgets/base",
            "_model_module_version": "1.5.0",
            "_view_count": null,
            "_view_module_version": "1.2.0",
            "_model_module": "@jupyter-widgets/controls"
          }
        },
        "cba02a28c9314eafbc95256c0072a3f2": {
          "model_module": "@jupyter-widgets/base",
          "model_name": "LayoutModel",
          "state": {
            "_view_name": "LayoutView",
            "grid_template_rows": null,
            "right": null,
            "justify_content": null,
            "_view_module": "@jupyter-widgets/base",
            "overflow": null,
            "_model_module_version": "1.2.0",
            "_view_count": null,
            "flex_flow": null,
            "width": null,
            "min_width": null,
            "border": null,
            "align_items": null,
            "bottom": null,
            "_model_module": "@jupyter-widgets/base",
            "top": null,
            "grid_column": null,
            "overflow_y": null,
            "overflow_x": null,
            "grid_auto_flow": null,
            "grid_area": null,
            "grid_template_columns": null,
            "flex": null,
            "_model_name": "LayoutModel",
            "justify_items": null,
            "grid_row": null,
            "max_height": null,
            "align_content": null,
            "visibility": null,
            "align_self": null,
            "height": null,
            "min_height": null,
            "padding": null,
            "grid_auto_rows": null,
            "grid_gap": null,
            "max_width": null,
            "order": null,
            "_view_module_version": "1.2.0",
            "grid_template_areas": null,
            "object_position": null,
            "object_fit": null,
            "grid_auto_columns": null,
            "margin": null,
            "display": null,
            "left": null
          }
        },
        "88a06bee75d34ae88b0c328efa776486": {
          "model_module": "@jupyter-widgets/controls",
          "model_name": "HBoxModel",
          "state": {
            "_view_name": "HBoxView",
            "_dom_classes": [],
            "_model_name": "HBoxModel",
            "_view_module": "@jupyter-widgets/controls",
            "_model_module_version": "1.5.0",
            "_view_count": null,
            "_view_module_version": "1.5.0",
            "box_style": "",
            "layout": "IPY_MODEL_b238f03c3581443ea5b881c9a493873b",
            "_model_module": "@jupyter-widgets/controls",
            "children": [
              "IPY_MODEL_836d973206354bd09c93162d1f532444",
              "IPY_MODEL_e68bb46ab16c40ff865f321e7a1186ea"
            ]
          }
        },
        "b238f03c3581443ea5b881c9a493873b": {
          "model_module": "@jupyter-widgets/base",
          "model_name": "LayoutModel",
          "state": {
            "_view_name": "LayoutView",
            "grid_template_rows": null,
            "right": null,
            "justify_content": null,
            "_view_module": "@jupyter-widgets/base",
            "overflow": null,
            "_model_module_version": "1.2.0",
            "_view_count": null,
            "flex_flow": null,
            "width": null,
            "min_width": null,
            "border": null,
            "align_items": null,
            "bottom": null,
            "_model_module": "@jupyter-widgets/base",
            "top": null,
            "grid_column": null,
            "overflow_y": null,
            "overflow_x": null,
            "grid_auto_flow": null,
            "grid_area": null,
            "grid_template_columns": null,
            "flex": null,
            "_model_name": "LayoutModel",
            "justify_items": null,
            "grid_row": null,
            "max_height": null,
            "align_content": null,
            "visibility": null,
            "align_self": null,
            "height": null,
            "min_height": null,
            "padding": null,
            "grid_auto_rows": null,
            "grid_gap": null,
            "max_width": null,
            "order": null,
            "_view_module_version": "1.2.0",
            "grid_template_areas": null,
            "object_position": null,
            "object_fit": null,
            "grid_auto_columns": null,
            "margin": null,
            "display": null,
            "left": null
          }
        },
        "836d973206354bd09c93162d1f532444": {
          "model_module": "@jupyter-widgets/controls",
          "model_name": "FloatProgressModel",
          "state": {
            "_view_name": "ProgressView",
            "style": "IPY_MODEL_e6b5f824cb1a46d0b7c45e7ba745898c",
            "_dom_classes": [],
            "description": "100%",
            "_model_name": "FloatProgressModel",
            "bar_style": "success",
            "max": 10,
            "_view_module": "@jupyter-widgets/controls",
            "_model_module_version": "1.5.0",
            "value": 10,
            "_view_count": null,
            "_view_module_version": "1.5.0",
            "orientation": "horizontal",
            "min": 0,
            "description_tooltip": null,
            "_model_module": "@jupyter-widgets/controls",
            "layout": "IPY_MODEL_b102c51938d24dcbbf156169f139de15"
          }
        },
        "e68bb46ab16c40ff865f321e7a1186ea": {
          "model_module": "@jupyter-widgets/controls",
          "model_name": "HTMLModel",
          "state": {
            "_view_name": "HTMLView",
            "style": "IPY_MODEL_82929f5ca8b84fdea6ab15f2e097d5f6",
            "_dom_classes": [],
            "description": "",
            "_model_name": "HTMLModel",
            "placeholder": "​",
            "_view_module": "@jupyter-widgets/controls",
            "_model_module_version": "1.5.0",
            "value": " 10/10 [02:03&lt;00:00, 12.39s/ex]",
            "_view_count": null,
            "_view_module_version": "1.5.0",
            "description_tooltip": null,
            "_model_module": "@jupyter-widgets/controls",
            "layout": "IPY_MODEL_33f65c11c2304acd864fe3dda9665588"
          }
        },
        "e6b5f824cb1a46d0b7c45e7ba745898c": {
          "model_module": "@jupyter-widgets/controls",
          "model_name": "ProgressStyleModel",
          "state": {
            "_view_name": "StyleView",
            "_model_name": "ProgressStyleModel",
            "description_width": "initial",
            "_view_module": "@jupyter-widgets/base",
            "_model_module_version": "1.5.0",
            "_view_count": null,
            "_view_module_version": "1.2.0",
            "bar_color": null,
            "_model_module": "@jupyter-widgets/controls"
          }
        },
        "b102c51938d24dcbbf156169f139de15": {
          "model_module": "@jupyter-widgets/base",
          "model_name": "LayoutModel",
          "state": {
            "_view_name": "LayoutView",
            "grid_template_rows": null,
            "right": null,
            "justify_content": null,
            "_view_module": "@jupyter-widgets/base",
            "overflow": null,
            "_model_module_version": "1.2.0",
            "_view_count": null,
            "flex_flow": null,
            "width": null,
            "min_width": null,
            "border": null,
            "align_items": null,
            "bottom": null,
            "_model_module": "@jupyter-widgets/base",
            "top": null,
            "grid_column": null,
            "overflow_y": null,
            "overflow_x": null,
            "grid_auto_flow": null,
            "grid_area": null,
            "grid_template_columns": null,
            "flex": null,
            "_model_name": "LayoutModel",
            "justify_items": null,
            "grid_row": null,
            "max_height": null,
            "align_content": null,
            "visibility": null,
            "align_self": null,
            "height": null,
            "min_height": null,
            "padding": null,
            "grid_auto_rows": null,
            "grid_gap": null,
            "max_width": null,
            "order": null,
            "_view_module_version": "1.2.0",
            "grid_template_areas": null,
            "object_position": null,
            "object_fit": null,
            "grid_auto_columns": null,
            "margin": null,
            "display": null,
            "left": null
          }
        },
        "82929f5ca8b84fdea6ab15f2e097d5f6": {
          "model_module": "@jupyter-widgets/controls",
          "model_name": "DescriptionStyleModel",
          "state": {
            "_view_name": "StyleView",
            "_model_name": "DescriptionStyleModel",
            "description_width": "",
            "_view_module": "@jupyter-widgets/base",
            "_model_module_version": "1.5.0",
            "_view_count": null,
            "_view_module_version": "1.2.0",
            "_model_module": "@jupyter-widgets/controls"
          }
        },
        "33f65c11c2304acd864fe3dda9665588": {
          "model_module": "@jupyter-widgets/base",
          "model_name": "LayoutModel",
          "state": {
            "_view_name": "LayoutView",
            "grid_template_rows": null,
            "right": null,
            "justify_content": null,
            "_view_module": "@jupyter-widgets/base",
            "overflow": null,
            "_model_module_version": "1.2.0",
            "_view_count": null,
            "flex_flow": null,
            "width": null,
            "min_width": null,
            "border": null,
            "align_items": null,
            "bottom": null,
            "_model_module": "@jupyter-widgets/base",
            "top": null,
            "grid_column": null,
            "overflow_y": null,
            "overflow_x": null,
            "grid_auto_flow": null,
            "grid_area": null,
            "grid_template_columns": null,
            "flex": null,
            "_model_name": "LayoutModel",
            "justify_items": null,
            "grid_row": null,
            "max_height": null,
            "align_content": null,
            "visibility": null,
            "align_self": null,
            "height": null,
            "min_height": null,
            "padding": null,
            "grid_auto_rows": null,
            "grid_gap": null,
            "max_width": null,
            "order": null,
            "_view_module_version": "1.2.0",
            "grid_template_areas": null,
            "object_position": null,
            "object_fit": null,
            "grid_auto_columns": null,
            "margin": null,
            "display": null,
            "left": null
          }
        }
      }
    }
  },
  "cells": [
    {
      "cell_type": "markdown",
      "metadata": {
        "id": "suytoooJyynI"
      },
      "source": [
        "# Automatic Speech Recognition: Finetune Wav2Vec2 for English ASR"
      ]
    },
    {
      "cell_type": "markdown",
      "metadata": {
        "id": "4N8A4D60y0PG"
      },
      "source": [
        "**Install Dependencies**\n",
        "\n",
        "Install both datasets and transformers.\n",
        "We need the [soundfile](https://pypi.org/project/SoundFile/) package which is based on libsndfile, CFFI and NumPy to load audio files and the jiwer to evaluate our model using the word error rate [WER](https://pypi.org/project/jiwer/) metric."
      ]
    },
    {
      "cell_type": "code",
      "metadata": {
        "id": "mcNlLYPF6XkC"
      },
      "source": [
        "!pip install datasets==1.4.1\n",
        "!pip install transformers==4.4.0 \n",
        "!pip install soundfile \n",
        "!pip install jiwer "
      ],
      "execution_count": null,
      "outputs": []
    },
    {
      "cell_type": "markdown",
      "metadata": {
        "id": "KUktUl4t9Qv4"
      },
      "source": [
        "**Mount Google Drive**"
      ]
    },
    {
      "cell_type": "code",
      "metadata": {
        "colab": {
          "base_uri": "https://localhost:8080/"
        },
        "id": "_GwQyqGEFquy",
        "outputId": "4d640a6b-9d51-4b78-c8a7-d07db4eed499"
      },
      "source": [
        "from google.colab import drive\n",
        "drive.mount('/content/gdrive/')"
      ],
      "execution_count": null,
      "outputs": [
        {
          "output_type": "stream",
          "text": [
            "Mounted at /content/gdrive/\n"
          ],
          "name": "stdout"
        }
      ]
    },
    {
      "cell_type": "markdown",
      "metadata": {
        "id": "lrl6vRDkftXz"
      },
      "source": [
        "Change working directory. Make sure you have the folders created in your google drive."
      ]
    },
    {
      "cell_type": "code",
      "metadata": {
        "colab": {
          "base_uri": "https://localhost:8080/"
        },
        "id": "NYQPZzTf6Qvg",
        "outputId": "d585c058-55eb-4e4c-f9f1-ff79f36fb587"
      },
      "source": [
        "cd /content/gdrive/MyDrive/IIT_Bombay/NASSCOM/"
      ],
      "execution_count": null,
      "outputs": [
        {
          "output_type": "stream",
          "text": [
            "/content/gdrive/MyDrive/IIT_Bombay/NASSCOM\n"
          ],
          "name": "stdout"
        }
      ]
    },
    {
      "cell_type": "markdown",
      "metadata": {
        "id": "5IFUnyCzpd7N"
      },
      "source": [
        "# Prepare Data, Tokenizer and Feature Extractor"
      ]
    },
    {
      "cell_type": "markdown",
      "metadata": {
        "id": "WdCm3Ytf9Y7P"
      },
      "source": [
        "1. Load dataset: TIMIT (https://huggingface.co/datasets/timit_asr)\n",
        "\n",
        "TIMIT is an automatic speech recognition dataset. It is one of the first benchmark dataset for Deep Learning based ASR. See this for leaderboard on TIMIT dataset (https://paperswithcode.com/sota/speech-recognition-on-timit)\n",
        "\n",
        "For demonstration purposes, we use small Timit dataset that contains just 5h of training data.\n",
        "\n",
        "\n",
        "\n",
        "\n"
      ]
    },
    {
      "cell_type": "code",
      "metadata": {
        "id": "UU9OOUWy6dUZ"
      },
      "source": [
        "import datasets # importing datasets library\n",
        "from datasets import load_dataset, load_metric\n",
        "timit = load_dataset(\"timit_asr\")\n",
        "print(timit)"
      ],
      "execution_count": null,
      "outputs": []
    },
    {
      "cell_type": "markdown",
      "metadata": {
        "id": "N2Bzcsu8974P"
      },
      "source": [
        "2. Create a small dataset: For demonstration"
      ]
    },
    {
      "cell_type": "code",
      "metadata": {
        "colab": {
          "base_uri": "https://localhost:8080/"
        },
        "id": "igDAzCV7Ra3Z",
        "outputId": "ff84c8a2-30bf-43b2-a1a2-633a08a3f924"
      },
      "source": [
        "timit_small = datasets.DatasetDict() \n",
        "# Take samples from index 10 to 19 from the train and test splits. \n",
        "timit_small['train'] = load_dataset(\"timit_asr\", split='train[10:20]')\n",
        "timit_small['test'] = load_dataset(\"timit_asr\", split='test[10:20]')"
      ],
      "execution_count": 8,
      "outputs": [
        {
          "output_type": "stream",
          "text": [
            "Reusing dataset timit_asr (/root/.cache/huggingface/datasets/timit_asr/clean/2.0.1/72abf9645fc2cfd87e21af1e381de0ab6ed1be4123c441ca97dc6766b96816a6)\n",
            "Reusing dataset timit_asr (/root/.cache/huggingface/datasets/timit_asr/clean/2.0.1/72abf9645fc2cfd87e21af1e381de0ab6ed1be4123c441ca97dc6766b96816a6)\n"
          ],
          "name": "stderr"
        }
      ]
    },
    {
      "cell_type": "markdown",
      "metadata": {
        "id": "D8fonbLJ-FzW"
      },
      "source": [
        "3. Remove unnecessary columns\n",
        "\n",
        "    We only need wav file and target text."
      ]
    },
    {
      "cell_type": "code",
      "metadata": {
        "id": "YHgJYcgYKH4a"
      },
      "source": [
        "timit_small = timit_small.remove_columns([\"phonetic_detail\", \"word_detail\", \"dialect_region\", \"id\", \"sentence_type\", \"speaker_id\"])"
      ],
      "execution_count": 9,
      "outputs": []
    },
    {
      "cell_type": "code",
      "metadata": {
        "colab": {
          "base_uri": "https://localhost:8080/"
        },
        "id": "MCXCrtBj-eHX",
        "outputId": "0dd45384-6a19-4fe3-8310-6dd2457b0642"
      },
      "source": [
        "print(timit_small['test'][0]['file'])\n",
        "print(timit_small['test'][0]['text'])"
      ],
      "execution_count": 10,
      "outputs": [
        {
          "output_type": "stream",
          "text": [
            "/root/.cache/huggingface/datasets/downloads/extracted/404950a46da14eac65eb4e2a8317b1372fb3971d980d91d5d5b221275b1fd7e0/data/TEST/DR4/MGMM0/SX139.WAV\n",
            "The bungalow was pleasantly situated near the shore.\n"
          ],
          "name": "stdout"
        }
      ]
    },
    {
      "cell_type": "markdown",
      "metadata": {
        "id": "_jQUWXu3-tOg"
      },
      "source": [
        "**Data Preparation**\n",
        "4. Remove special characters\n",
        "    \n",
        "    In ASR, generally all punctuations except apostrophe and other special characters are removed for training."
      ]
    },
    {
      "cell_type": "code",
      "metadata": {
        "colab": {
          "base_uri": "https://localhost:8080/",
          "height": 115,
          "referenced_widgets": [
            "6f7f30ece844442a9cda4d8a2b93b4d2",
            "344d00ccd3844675a01abf9238a708d9",
            "2ae7a0b8f30e411ebb86def294111012",
            "ec4811df6194455c989f7203b92cbf7e",
            "7ace3464922f41ebb7defe6d304a7ab2",
            "82d533ba6d524f458ed7586ecad02568",
            "773addae8f5747f58f7e030d4e546877",
            "7e8d0180e6fa4ba28f5999c71a8eec11",
            "b25d432156a44941b6c97292bb508798",
            "54b318d16cc545ba9b115767305bc3f0",
            "37c40ad6b0b94e6694a416aabaca19da",
            "f7d7a34ec8904d29a6f2edbb71be5be3",
            "3628999651b54e4fab316529707f538c",
            "4a56bdf5b4d14741811d51c7fb2fcbce",
            "87a6abf0099b4f3799016dfc545c4b16",
            "cba02a28c9314eafbc95256c0072a3f2"
          ]
        },
        "id": "4mnpWjFfONur",
        "outputId": "ce847811-8a79-46de-cefa-1416c08064a3"
      },
      "source": [
        "import re\n",
        "chars_to_ignore_regex = '[\\,\\?\\.\\!\\-\\;\\:\\\"]'\n",
        "\n",
        "def remove_special_characters(batch):\n",
        "    batch[\"text\"] = re.sub(chars_to_ignore_regex, '', batch[\"text\"]).lower()\n",
        "    return batch\n",
        "\n",
        "timit_small = timit_small.map(remove_special_characters)"
      ],
      "execution_count": 11,
      "outputs": [
        {
          "output_type": "display_data",
          "data": {
            "application/vnd.jupyter.widget-view+json": {
              "model_id": "6f7f30ece844442a9cda4d8a2b93b4d2",
              "version_minor": 0,
              "version_major": 2
            },
            "text/plain": [
              "HBox(children=(FloatProgress(value=0.0, max=10.0), HTML(value='')))"
            ]
          },
          "metadata": {
            "tags": []
          }
        },
        {
          "output_type": "stream",
          "text": [
            "\n"
          ],
          "name": "stdout"
        },
        {
          "output_type": "display_data",
          "data": {
            "application/vnd.jupyter.widget-view+json": {
              "model_id": "b25d432156a44941b6c97292bb508798",
              "version_minor": 0,
              "version_major": 2
            },
            "text/plain": [
              "HBox(children=(FloatProgress(value=0.0, max=10.0), HTML(value='')))"
            ]
          },
          "metadata": {
            "tags": []
          }
        },
        {
          "output_type": "stream",
          "text": [
            "\n"
          ],
          "name": "stdout"
        }
      ]
    },
    {
      "cell_type": "markdown",
      "metadata": {
        "id": "5VygzYdZ-5hy"
      },
      "source": [
        "**Data Preparation**\n",
        "5. Create vocabulary"
      ]
    },
    {
      "cell_type": "code",
      "metadata": {
        "id": "YSwkDKlNOgY5"
      },
      "source": [
        "def extract_all_chars(batch):\n",
        "  all_text = \" \".join(batch[\"text\"])\n",
        "  vocab = list(set(all_text))\n",
        "  return {\"vocab\": [vocab], \"all_text\": [all_text]}\n",
        "\n",
        "vocabs = timit_small.map(extract_all_chars, batched=True, batch_size=-1, keep_in_memory=True, remove_columns=timit_small.column_names[\"train\"])\n",
        "print(vocabs)"
      ],
      "execution_count": null,
      "outputs": []
    },
    {
      "cell_type": "code",
      "metadata": {
        "id": "_hr6DUAxQZ1a"
      },
      "source": [
        "vocab_list = list(set(vocabs[\"train\"][\"vocab\"][0]) | set(vocabs[\"test\"][\"vocab\"][0]))\n",
        "\n",
        "vocab_dict = {v: k for k, v in enumerate(vocab_list)}\n",
        "vocab_dict"
      ],
      "execution_count": null,
      "outputs": []
    },
    {
      "cell_type": "markdown",
      "metadata": {
        "id": "Ap4V4_Hpz0X9"
      },
      "source": [
        "To make it clearer that \" \" has its own token class, we give it a more visible character |. In addition, we also add an \"unknown\" token so that the model can later deal with characters not encountered in Timit's training set.\n",
        "\n",
        "Finally, we also add a padding token that corresponds to CTC's \"blank token\". The \"blank token\" is a core component of the CTC algorithm."
      ]
    },
    {
      "cell_type": "code",
      "metadata": {
        "colab": {
          "base_uri": "https://localhost:8080/"
        },
        "id": "803AOamKQ1DB",
        "outputId": "35be64b7-57df-4b08-f263-08239966dc3b"
      },
      "source": [
        "vocab_dict[\"|\"] = vocab_dict[\" \"]\n",
        "del vocab_dict[\" \"]\n",
        "\n",
        "vocab_dict[\"[UNK]\"] = len(vocab_dict)\n",
        "vocab_dict[\"[PAD]\"] = len(vocab_dict)\n",
        "print(len(vocab_dict))"
      ],
      "execution_count": 14,
      "outputs": [
        {
          "output_type": "stream",
          "text": [
            "22\n"
          ],
          "name": "stdout"
        }
      ]
    },
    {
      "cell_type": "markdown",
      "metadata": {
        "id": "Wt2d29kgpuSF"
      },
      "source": [
        "Save vocabulary in json format."
      ]
    },
    {
      "cell_type": "code",
      "metadata": {
        "id": "Y5toR5D2Q5SV"
      },
      "source": [
        "import json\n",
        "with open('vocab.json', 'w') as vocab_file:\n",
        "    json.dump(vocab_dict, vocab_file)"
      ],
      "execution_count": 15,
      "outputs": []
    },
    {
      "cell_type": "markdown",
      "metadata": {
        "id": "382eqLPIiZzH"
      },
      "source": [
        "**Fine-tuning Wav2Vec2 for English ASR**\n",
        "\n",
        "[Wav2Vec2](https://ai.facebook.com/blog/wav2vec-20-learning-the-structure-of-speech-from-raw-audio/) is a pretrained model for Automatic Speech Recognition (ASR) and was released in September 2020 by Alexei Baevski, Michael Auli, and Alex Conneau.\n",
        "\n",
        "![wav2vec2.png](data:image/png;base64,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)\n",
        "\n",
        "ASR models transcribe speech to text. For preprocessing speech(raw audio files), we need a feature extractor that processes the speech signal to the models input format, e.g. a feature vector. We need a tokenizer that processes the model's output format to text.\n",
        "\n",
        "In Transformers, the Wav2Vec2 model is thus accompanied by both a tokenizer, called Wav2Vec2CTCTokenizer, and a feature extractor, called Wav2Vec2FeatureExtractor."
      ]
    },
    {
      "cell_type": "markdown",
      "metadata": {
        "id": "Cv07BBtr_Ioy"
      },
      "source": [
        "**Create Wav2Vec2CTCTokenizer**\n",
        "\n",
        "The pretrained Wav2Vec2 checkpoint maps the speech signal to a sequence of context representations as illustrated in the figure above. A fine-tuned Wav2Vec2 checkpoint needs to map this sequence of context representations to its corresponding transcription so that a linear layer has to be added on top of the transformer block (shown in yellow). \n",
        "\n",
        "The output size of this layer corresponds to the number of tokens in the vocabulary, which does not depend on Wav2Vec2's pretraining task, but only on the labeled dataset used for fine-tuning. So in the first step, we will take a look at Timit and define a vocabulary based on the dataset's transcriptions.\n",
        "\n"
      ]
    },
    {
      "cell_type": "code",
      "metadata": {
        "id": "nB_cwFvdQ_L3"
      },
      "source": [
        "from transformers import Wav2Vec2CTCTokenizer\n",
        "\n",
        "tokenizer = Wav2Vec2CTCTokenizer(\"./vocab.json\", unk_token=\"[UNK]\", pad_token=\"[PAD]\", word_delimiter_token=\"|\")"
      ],
      "execution_count": 16,
      "outputs": []
    },
    {
      "cell_type": "markdown",
      "metadata": {
        "id": "CSDHqLBEmtWS"
      },
      "source": [
        "\n",
        "**Create Wav2Vec2 Feature Extractor**\n",
        "Wav2Vec2 was pretrained on the audio data of LibriSpeech and LibriVox which both were sampling with 16kHz. Our fine-tuning dataset, Timit, was luckily also sampled with 16kHz.\n",
        "\n",
        "A Wav2Vec2 feature extractor object requires the following parameters to be instantiated:\n",
        "\n",
        "- `feature_size`: Speech models take a sequence of feature vectors as an input. While the length of this sequence obviously varies, the feature size should not. In the case of Wav2Vec2, the feature size is 1 because the model was trained on the raw speech signal ${}^2$.\n",
        "- `sampling_rate`: The sampling rate at which the model is trained on.\n",
        "- `padding_value`: For batched inference, shorter inputs need to be padded with a specific value\n",
        "- `do_normalize`: Whether the input should be *zero-mean-unit-variance* normalized or not. Usually, speech models perform better when normalizing the input\n",
        "- `return_attention_mask`: Whether the model should make use of an `attention_mask` for batched inference. In general, models should **always** make use of the `attention_mask` to mask padded tokens. However, due to a very specific design choice of `Wav2Vec2`'s \"base\" checkpoint, better results are achieved when using no `attention_mask`. This is **not** recommended for other speech models. For more information, one can take a look at [this](https://github.com/pytorch/fairseq/issues/3227) issue. \n"
      ]
    },
    {
      "cell_type": "code",
      "metadata": {
        "id": "LRqi9IQKmvoN"
      },
      "source": [
        "from transformers import Wav2Vec2FeatureExtractor\n",
        "\n",
        "feature_extractor = Wav2Vec2FeatureExtractor(feature_size=1, sampling_rate=16000, padding_value=0.0, do_normalize=True, return_attention_mask=False)"
      ],
      "execution_count": 17,
      "outputs": []
    },
    {
      "cell_type": "markdown",
      "metadata": {
        "id": "WvLXsHpCmhwx"
      },
      "source": [
        "**Create Wav2Vec2Processor** \n",
        "\n",
        "To make the usage of Wav2Vec2 as user-friendly as possible, the feature extractor and tokenizer are *wrapped* into a single `Wav2Vec2Processor` class so that one only needs a `model` and `processor` object."
      ]
    },
    {
      "cell_type": "code",
      "metadata": {
        "id": "MT9dDnWtmkDh"
      },
      "source": [
        "from transformers import Wav2Vec2Processor\n",
        "\n",
        "processor = Wav2Vec2Processor(feature_extractor=feature_extractor, tokenizer=tokenizer)"
      ],
      "execution_count": 18,
      "outputs": []
    },
    {
      "cell_type": "markdown",
      "metadata": {
        "id": "3gJqQke7_0xQ"
      },
      "source": [
        "**Preprocess Data**\n",
        "\n",
        "Alright, the audio file is saved in the .WAV format. We will use soundfile  for loading of audio files.\n",
        "\n",
        "An audio file usually stores both its values and the sampling rate with which the speech signal was digitalized. We want to store both in the dataset and write a map(...) function accordingly."
      ]
    },
    {
      "cell_type": "code",
      "metadata": {
        "id": "uVYNB-ZHRRLq"
      },
      "source": [
        "import soundfile as sf\n",
        "\n",
        "def speech_file_to_array_fn(batch):\n",
        "    speech_array, sampling_rate = sf.read(batch[\"file\"])\n",
        "    batch[\"speech\"] = speech_array\n",
        "    batch[\"sampling_rate\"] = sampling_rate\n",
        "    batch[\"target_text\"] = batch[\"text\"]\n",
        "    return batch\n",
        "\n",
        "timit_small = timit_small.map(speech_file_to_array_fn, num_proc=4)"
      ],
      "execution_count": null,
      "outputs": []
    },
    {
      "cell_type": "markdown",
      "metadata": {
        "id": "jDlzM90_nguO"
      },
      "source": [
        "**Prepare Data**\n",
        "\n",
        "We process the dataset to the format expected by the model for training.\n",
        "\n",
        "First, we check that all data samples have the same sampling rate (of 16kHz). Second, we extract the input_values from the loaded audio file. Third, we encode the transcriptions to label ids."
      ]
    },
    {
      "cell_type": "code",
      "metadata": {
        "id": "6CnfXtB_AJ1b"
      },
      "source": [
        "def prepare_dataset(batch):\n",
        "    # check that all files have the correct sampling rate\n",
        "    assert (\n",
        "        len(set(batch[\"sampling_rate\"])) == 1\n",
        "    ), f\"Make sure all inputs have the same sampling rate of {processor.feature_extractor.sampling_rate}.\"\n",
        "\n",
        "    batch[\"input_values\"] = processor(batch[\"speech\"], sampling_rate=batch[\"sampling_rate\"][0]).input_values\n",
        "\n",
        "    with processor.as_target_processor():\n",
        "        batch[\"labels\"] = processor(batch[\"target_text\"]).input_ids\n",
        "    return batch\n",
        "\n",
        "timit_prepared = timit_small.map(prepare_dataset, remove_columns=timit_small.column_names[\"train\"], batch_size=8, num_proc=4, batched=True)"
      ],
      "execution_count": null,
      "outputs": []
    },
    {
      "cell_type": "markdown",
      "metadata": {
        "id": "2cczzRK7_7hZ"
      },
      "source": [
        "**Listen to sample audio in train set.**"
      ]
    },
    {
      "cell_type": "code",
      "metadata": {
        "id": "Nl7h2hK6Recr"
      },
      "source": [
        "import IPython.display as ipd\n",
        "import numpy as np\n",
        "import random\n",
        "\n",
        "rand_int = random.randint(0, len(timit_small[\"train\"])-1)\n",
        "\n",
        "ipd.Audio(data=np.asarray(timit_small[\"train\"][rand_int][\"speech\"]), autoplay=True, rate=16000)"
      ],
      "execution_count": null,
      "outputs": []
    },
    {
      "cell_type": "markdown",
      "metadata": {
        "id": "1KMj9QB6o5KJ"
      },
      "source": [
        "**Check that the data is correctly prepared.**"
      ]
    },
    {
      "cell_type": "code",
      "metadata": {
        "colab": {
          "base_uri": "https://localhost:8080/"
        },
        "id": "RgasMFhzRrs9",
        "outputId": "536539f3-125c-401c-c3c6-01de82f8343b"
      },
      "source": [
        "import numpy as np\n",
        "rand_int = random.randint(0, len(timit_small[\"train\"])-1)\n",
        "\n",
        "print(\"Target text:\", timit_small[\"train\"][rand_int][\"target_text\"])\n",
        "print(\"Input array shape:\", np.asarray(timit_small[\"train\"][rand_int][\"speech\"]).shape)\n",
        "print(\"Sampling rate:\", timit_small[\"train\"][rand_int][\"sampling_rate\"])"
      ],
      "execution_count": 22,
      "outputs": [
        {
          "output_type": "stream",
          "text": [
            "Target text: would such an act of refusal be useful\n",
            "Input array shape: (39936,)\n",
            "Sampling rate: 16000\n"
          ],
          "name": "stdout"
        }
      ]
    },
    {
      "cell_type": "markdown",
      "metadata": {
        "id": "e2-hzZrkpJ13"
      },
      "source": [
        "# Training "
      ]
    },
    {
      "cell_type": "markdown",
      "metadata": {
        "id": "O4tsvCeYAL8o"
      },
      "source": [
        "**Define a Data Collator and Load metric**\n",
        "The data is processed so that we are ready to start setting up the training pipeline. We will make use of [Trainer](https://huggingface.co/transformers/master/main_classes/trainer.html?highlight=trainer) for which we essentially need to do the following:\n",
        "\n",
        "- Define a data collator. In contrast to most NLP models, Wav2Vec2 has a much larger input length than output length. *E.g.*, a sample of input length 50000 has an output length of no more than 100. Given the large input sizes, it is much more efficient to pad the training batches dynamically meaning that all training samples should only be padded to the longest sample in their batch and not the overall longest sample. Therefore, fine-tuning Wav2Vec2 requires a special padding data collator, which we will define below\n",
        "\n",
        "- Evaluation metric. During training, the model should be evaluated on the word error rate. We should define a `compute_metrics` function accordingly\n",
        "\n",
        "- Load a pretrained checkpoint. We need to load a pretrained checkpoint and configure it correctly for training.\n",
        "\n",
        "- Define the training configuration.\n",
        "\n",
        "After having fine-tuned the model, we will correctly evaluate it on the test data and verify that it has indeed learned to correctly transcribe speech."
      ]
    },
    {
      "cell_type": "markdown",
      "metadata": {
        "id": "Um8VYkO-urdl"
      },
      "source": [
        "### Set-up Trainer\n",
        "\n",
        "Let's start by defining the data collator. The code for the data collator was copied from [this example](https://github.com/huggingface/transformers/blob/9a06b6b11bdfc42eea08fa91d0c737d1863c99e3/examples/research_projects/wav2vec2/run_asr.py#L81).\n",
        "\n",
        "This data collator treats the `input_values` and `labels` differently and thus applies to separate padding functions on them (again making use of Wav2Vec2's context manager). This is necessary because in speech input and output are of different modalities meaning that they should not be treated by the same padding function.\n",
        "Analogous to the common data collators, the padding tokens in the labels with `-100` so that those tokens are **not** taken into account when computing the loss."
      ]
    },
    {
      "cell_type": "code",
      "metadata": {
        "id": "lyPRxrkpSL4P"
      },
      "source": [
        "import torch\n",
        "\n",
        "from dataclasses import dataclass, field\n",
        "from typing import Any, Dict, List, Optional, Union\n",
        "\n",
        "@dataclass\n",
        "class DataCollatorCTCWithPadding:\n",
        "\n",
        "    processor: Wav2Vec2Processor\n",
        "    padding: Union[bool, str] = True\n",
        "    max_length: Optional[int] = None\n",
        "    max_length_labels: Optional[int] = None\n",
        "    pad_to_multiple_of: Optional[int] = None\n",
        "    pad_to_multiple_of_labels: Optional[int] = None\n",
        "\n",
        "    def __call__(self, features: List[Dict[str, Union[List[int], torch.Tensor]]]) -> Dict[str, torch.Tensor]:\n",
        "        # split inputs and labels since they have to be of different lenghts and need\n",
        "        # different padding methods\n",
        "        input_features = [{\"input_values\": feature[\"input_values\"]} for feature in features]\n",
        "        label_features = [{\"input_ids\": feature[\"labels\"]} for feature in features]\n",
        "\n",
        "        batch = self.processor.pad(\n",
        "            input_features,\n",
        "            padding=self.padding,\n",
        "            max_length=self.max_length,\n",
        "            pad_to_multiple_of=self.pad_to_multiple_of,\n",
        "            return_tensors=\"pt\",\n",
        "        )\n",
        "        with self.processor.as_target_processor():\n",
        "            labels_batch = self.processor.pad(\n",
        "                label_features,\n",
        "                padding=self.padding,\n",
        "                max_length=self.max_length_labels,\n",
        "                pad_to_multiple_of=self.pad_to_multiple_of_labels,\n",
        "                return_tensors=\"pt\",\n",
        "            )\n",
        "\n",
        "        # replace padding with -100 to ignore loss correctly\n",
        "        labels = labels_batch[\"input_ids\"].masked_fill(labels_batch.attention_mask.ne(1), -100)\n",
        "\n",
        "        batch[\"labels\"] = labels\n",
        "\n",
        "        return batch\n",
        "\n",
        "data_collator = DataCollatorCTCWithPadding(processor=processor, padding=True)"
      ],
      "execution_count": 23,
      "outputs": []
    },
    {
      "cell_type": "markdown",
      "metadata": {
        "id": "EbH95Mmyu7DF"
      },
      "source": [
        "Next, the evaluation metric is defined. As mentioned earlier, the \n",
        "predominant metric in ASR is the word error rate (WER), hence we will use it in this notebook as well."
      ]
    },
    {
      "cell_type": "code",
      "metadata": {
        "id": "VIxQFIFCu8wR"
      },
      "source": [
        "wer_metric = load_metric(\"wer\")        "
      ],
      "execution_count": null,
      "outputs": []
    },
    {
      "cell_type": "markdown",
      "metadata": {
        "id": "-g31_gtSAenG"
      },
      "source": [
        "**Compute WER**"
      ]
    },
    {
      "cell_type": "code",
      "metadata": {
        "id": "4WEC3hv_R-bl"
      },
      "source": [
        "def compute_metrics(pred):\n",
        "    pred_logits = pred.predictions\n",
        "    pred_ids = np.argmax(pred_logits, axis=-1)\n",
        "\n",
        "    pred.label_ids[pred.label_ids == -100] = processor.tokenizer.pad_token_id\n",
        "\n",
        "    pred_str = processor.batch_decode(pred_ids)\n",
        "    # we do not want to group tokens when computing the metrics\n",
        "    label_str = processor.batch_decode(pred.label_ids, group_tokens=False)\n",
        "\n",
        "    wer = wer_metric.compute(predictions=pred_str, references=label_str)\n",
        "\n",
        "    return {\"wer\": wer}"
      ],
      "execution_count": 25,
      "outputs": []
    },
    {
      "cell_type": "markdown",
      "metadata": {
        "id": "v3L5la80AkJ4"
      },
      "source": [
        "**Load a pretrained wav2vec2 checkpoint**\n",
        "\n",
        "The tokenizer's pad_token_id must be to define the model's pad_token_id or in the case of Wav2Vec2ForCTC also CTC's blank token  "
      ]
    },
    {
      "cell_type": "code",
      "metadata": {
        "id": "nBPBlml0Sb6I"
      },
      "source": [
        "from transformers import Wav2Vec2ForCTC\n",
        "\n",
        "model = Wav2Vec2ForCTC.from_pretrained(\n",
        "    \"facebook/wav2vec2-base-960h\", \n",
        "    gradient_checkpointing=True, \n",
        "    ctc_loss_reduction=\"mean\", \n",
        "    pad_token_id=processor.tokenizer.pad_token_id,\n",
        ")"
      ],
      "execution_count": null,
      "outputs": []
    },
    {
      "cell_type": "markdown",
      "metadata": {
        "id": "jRQjyH-BAvvs"
      },
      "source": [
        "**Freeze The Feature Extractor**\n",
        "\n",
        "The first component of Wav2Vec2 consists of a stack of CNN layers that are used to extract acoustically meaningful - but contextually independent - features from the raw speech signal. This part of the model has already been sufficiently trained during pretrainind and as stated in the [paper](https://arxiv.org/abs/2006.11477) does not need to be fine-tuned anymore. \n",
        "Thus, we can set the `requires_grad` to `False` for all parameters of the *feature extraction* part."
      ]
    },
    {
      "cell_type": "code",
      "metadata": {
        "id": "3IUJUTWoSd_e"
      },
      "source": [
        "model.freeze_feature_extractor()"
      ],
      "execution_count": 27,
      "outputs": []
    },
    {
      "cell_type": "markdown",
      "metadata": {
        "id": "81VdI65lA1fs"
      },
      "source": [
        "**Set Training Arguments (Hyperparameters)**\n",
        "\n",
        "For faster training and demonstration, we set save_steps=15 and eval_steps=15. \n",
        "When using entire dataset, please set both parameters to 500. \n",
        "\n",
        "For explanations on parameters, one can take a look at the [docs](https://huggingface.co/transformers/master/main_classes/trainer.html?highlight=trainer#trainingarguments)."
      ]
    },
    {
      "cell_type": "code",
      "metadata": {
        "id": "RdqDIw2_SgMT"
      },
      "source": [
        "from transformers import TrainingArguments\n",
        "\n",
        "training_args = TrainingArguments(\n",
        "  output_dir=\"/content/gdrive/MyDrive/IIT_Bombay/NASSCOM/wav2vec2-base-timit-demo\",\n",
        "  group_by_length=True,\n",
        "  per_device_train_batch_size=32,\n",
        "  evaluation_strategy=\"steps\",\n",
        "  num_train_epochs=30,\n",
        "  fp16=False,\n",
        "  save_steps=15, \n",
        "  eval_steps=15, \n",
        "  logging_steps=15,\n",
        "  learning_rate=1e-4,\n",
        "  weight_decay=0.005,\n",
        "  warmup_steps=1000,\n",
        "  save_total_limit=2,\n",
        ")"
      ],
      "execution_count": 28,
      "outputs": []
    },
    {
      "cell_type": "markdown",
      "metadata": {
        "id": "IBRXPos1BG6f"
      },
      "source": [
        "**Create a Trainer Instance**\n",
        "\n",
        "Now, all instances can be passed to Trainer and we are ready to start training!"
      ]
    },
    {
      "cell_type": "code",
      "metadata": {
        "id": "iDqZ0XrpSh37"
      },
      "source": [
        "from transformers import Trainer\n",
        "\n",
        "trainer = Trainer(\n",
        "    model=model,\n",
        "    data_collator=data_collator,\n",
        "    args=training_args,\n",
        "    compute_metrics=compute_metrics,\n",
        "    train_dataset=timit_prepared[\"train\"],\n",
        "    eval_dataset=timit_prepared[\"test\"],\n",
        "    tokenizer=processor.feature_extractor,\n",
        ")"
      ],
      "execution_count": 29,
      "outputs": []
    },
    {
      "cell_type": "markdown",
      "metadata": {
        "id": "CgJZkJYiBKqy"
      },
      "source": [
        "**Start Training**"
      ]
    },
    {
      "cell_type": "code",
      "metadata": {
        "colab": {
          "base_uri": "https://localhost:8080/",
          "height": 174
        },
        "id": "8ihSMuGMSlT8",
        "outputId": "cb735d12-42f5-4cde-d5a0-1f19e19da258"
      },
      "source": [
        "trainer.train()"
      ],
      "execution_count": 30,
      "outputs": [
        {
          "output_type": "display_data",
          "data": {
            "text/html": [
              "\n",
              "    <div>\n",
              "        <style>\n",
              "            /* Turns off some styling */\n",
              "            progress {\n",
              "                /* gets rid of default border in Firefox and Opera. */\n",
              "                border: none;\n",
              "                /* Needs to be in here for Safari polyfill so background images work as expected. */\n",
              "                background-size: auto;\n",
              "            }\n",
              "        </style>\n",
              "      \n",
              "      <progress value='30' max='30' style='width:300px; height:20px; vertical-align: middle;'></progress>\n",
              "      [30/30 00:30, Epoch 30/30]\n",
              "    </div>\n",
              "    <table border=\"1\" class=\"dataframe\">\n",
              "  <thead>\n",
              "    <tr style=\"text-align: left;\">\n",
              "      <th>Step</th>\n",
              "      <th>Training Loss</th>\n",
              "      <th>Validation Loss</th>\n",
              "      <th>Wer</th>\n",
              "      <th>Runtime</th>\n",
              "      <th>Samples Per Second</th>\n",
              "    </tr>\n",
              "  </thead>\n",
              "  <tbody>\n",
              "    <tr>\n",
              "      <td>15</td>\n",
              "      <td>21.653800</td>\n",
              "      <td>23.503824</td>\n",
              "      <td>1.000000</td>\n",
              "      <td>0.481500</td>\n",
              "      <td>20.769000</td>\n",
              "    </tr>\n",
              "    <tr>\n",
              "      <td>30</td>\n",
              "      <td>19.327600</td>\n",
              "      <td>21.552269</td>\n",
              "      <td>1.000000</td>\n",
              "      <td>0.460100</td>\n",
              "      <td>21.733000</td>\n",
              "    </tr>\n",
              "  </tbody>\n",
              "</table><p>"
            ],
            "text/plain": [
              "<IPython.core.display.HTML object>"
            ]
          },
          "metadata": {
            "tags": []
          }
        },
        {
          "output_type": "execute_result",
          "data": {
            "text/plain": [
              "TrainOutput(global_step=30, training_loss=20.490712483723957, metrics={'train_runtime': 31.9087, 'train_samples_per_second': 0.94, 'total_flos': 6785660583936000.0, 'epoch': 30.0, 'init_mem_cpu_alloc_delta': 371261, 'init_mem_gpu_alloc_delta': 377847808, 'init_mem_cpu_peaked_delta': 18306, 'init_mem_gpu_peaked_delta': 0, 'train_mem_cpu_alloc_delta': 620230, 'train_mem_gpu_alloc_delta': 1110445568, 'train_mem_cpu_peaked_delta': 19585131, 'train_mem_gpu_peaked_delta': 327237632})"
            ]
          },
          "metadata": {
            "tags": []
          },
          "execution_count": 30
        }
      ]
    },
    {
      "cell_type": "markdown",
      "metadata": {
        "id": "PEPLlYpSBRA_"
      },
      "source": [
        "### Evaluate\n",
        "\n",
        "In this part, we evaluate our [patrickvonplaten/wav2vec2-base-timit-demo](https://huggingface.co/patrickvonplaten/wav2vec2-base-timit-demo) on the test set.\n",
        "\n",
        "This model is facebook/wav2vec2-base and fine-tuned on TIMIT dataset.\n",
        "\n",
        "Let's load the `processor` and `model`."
      ]
    },
    {
      "cell_type": "code",
      "metadata": {
        "id": "gZO2NuKAgfWm"
      },
      "source": [
        "processor = Wav2Vec2Processor.from_pretrained(\"patrickvonplaten/wav2vec2-base-timit-demo\")\n",
        "model = Wav2Vec2ForCTC.from_pretrained(\"patrickvonplaten/wav2vec2-base-timit-demo\")"
      ],
      "execution_count": null,
      "outputs": []
    },
    {
      "cell_type": "markdown",
      "metadata": {
        "id": "LlZ5AFSGtZJL"
      },
      "source": [
        "Now, we will make use of the `map(...)` function to predict the transcription of every test sample and to save the prediction in the dataset itself. We will call the resulting dictionary `\"results\"`. \n",
        "\n",
        "**Note**: we evaluate the test data set with `batch_size=1` on purpose due to this [issue](https://github.com/pytorch/fairseq/issues/3227). Since padded inputs don't yield the exact same output as non-padded inputs, a better WER can be achieved by not padding the input at all."
      ]
    },
    {
      "cell_type": "code",
      "metadata": {
        "colab": {
          "base_uri": "https://localhost:8080/",
          "height": 66,
          "referenced_widgets": [
            "88a06bee75d34ae88b0c328efa776486",
            "b238f03c3581443ea5b881c9a493873b",
            "836d973206354bd09c93162d1f532444",
            "e68bb46ab16c40ff865f321e7a1186ea",
            "e6b5f824cb1a46d0b7c45e7ba745898c",
            "b102c51938d24dcbbf156169f139de15",
            "82929f5ca8b84fdea6ab15f2e097d5f6",
            "33f65c11c2304acd864fe3dda9665588"
          ]
        },
        "id": "VXRfITczCBm5",
        "outputId": "914ce83f-4b11-4822-e249-27f335561f97"
      },
      "source": [
        "def map_to_result(batch):\n",
        "  model.to(\"cuda\")\n",
        "  input_values = processor(\n",
        "      batch[\"speech\"], \n",
        "      sampling_rate=batch[\"sampling_rate\"], \n",
        "      return_tensors=\"pt\"\n",
        "  ).input_values.to(\"cuda\")\n",
        "\n",
        "  with torch.no_grad():\n",
        "    logits = model(input_values).logits\n",
        "\n",
        "  pred_ids = torch.argmax(logits, dim=-1)\n",
        "  batch[\"pred_str\"] = processor.batch_decode(pred_ids)[0]\n",
        "\n",
        "  return batch\n",
        "\n",
        "results = timit_small[\"test\"].map(map_to_result)"
      ],
      "execution_count": 36,
      "outputs": [
        {
          "output_type": "display_data",
          "data": {
            "application/vnd.jupyter.widget-view+json": {
              "model_id": "88a06bee75d34ae88b0c328efa776486",
              "version_minor": 0,
              "version_major": 2
            },
            "text/plain": [
              "HBox(children=(FloatProgress(value=0.0, max=10.0), HTML(value='')))"
            ]
          },
          "metadata": {
            "tags": []
          }
        },
        {
          "output_type": "stream",
          "text": [
            "\n"
          ],
          "name": "stdout"
        }
      ]
    },
    {
      "cell_type": "markdown",
      "metadata": {
        "id": "gTd79QjxtJ3S"
      },
      "source": [
        "Compute overall WER:"
      ]
    },
    {
      "cell_type": "code",
      "metadata": {
        "id": "40vg3ECNCFgT",
        "colab": {
          "base_uri": "https://localhost:8080/"
        },
        "outputId": "2327213d-f542-4ee0-8358-00c3ce592108"
      },
      "source": [
        "print(\"Test WER: {:.3f}\".format(wer_metric.compute(predictions=results[\"pred_str\"], references=results[\"target_text\"])))"
      ],
      "execution_count": 37,
      "outputs": [
        {
          "output_type": "stream",
          "text": [
            "Test WER: 0.375\n"
          ],
          "name": "stdout"
        }
      ]
    },
    {
      "cell_type": "code",
      "metadata": {
        "colab": {
          "base_uri": "https://localhost:8080/"
        },
        "id": "iudno-4ZCI6c",
        "outputId": "fce89479-a1dc-48ab-991d-794224f71d87"
      },
      "source": [
        "model.to(\"cuda\")\n",
        "input_values = processor(timit_small[\"test\"][0][\"speech\"], sampling_rate=timit_small[\"test\"][0][\"sampling_rate\"], return_tensors=\"pt\").input_values.to(\"cuda\")\n",
        "\n",
        "with torch.no_grad():\n",
        "  logits = model(input_values).logits\n",
        "\n",
        "pred_ids = torch.argmax(logits, dim=-1)\n",
        "\n",
        "# convert ids to tokens\n",
        "print(\" \".join(processor.tokenizer.convert_ids_to_tokens(pred_ids[0].tolist())))"
      ],
      "execution_count": 38,
      "outputs": [
        {
          "output_type": "stream",
          "text": [
            "[PAD] [PAD] [PAD] [PAD] [PAD] [PAD] t t h e e | | b b [PAD] u u n n n g g [PAD] a [PAD] [PAD] l l [PAD] o o o [PAD] | w w a a [PAD] s s | | [PAD] [PAD] p l l e e [PAD] [PAD] s s e n n t t t [PAD] l l y y | | | s s [PAD] i i [PAD] t t t [PAD] u u u u [PAD] [PAD] [PAD] a a [PAD] t t e e e d d d | n n e e a a a r | | t h h e | | s s h h h [PAD] o o o [PAD] o o r r [PAD] [PAD] [PAD] [PAD] [PAD] [PAD] [PAD] [PAD] [PAD] [PAD] [PAD]\n"
          ],
          "name": "stdout"
        }
      ]
    },
    {
      "cell_type": "markdown",
      "metadata": {
        "id": "-8xx8i47s3c2"
      },
      "source": [
        "The reader should take a look at [this](https://distill.pub/2017/ctc) very nice blog post to better understand CTC."
      ]
    },
    {
      "cell_type": "markdown",
      "metadata": {
        "id": "bbTWojrlyZO6"
      },
      "source": [
        "# Interactive ASR"
      ]
    },
    {
      "cell_type": "markdown",
      "metadata": {
        "id": "p7PG8IcKB5J5"
      },
      "source": [
        "Here we'll create a module to do inference on wav2vec2-base-960h model. It will allow the user to record audio in real-time and generate the transcription.\n",
        "\n",
        "In this part, we evaluate our [facebook/wav2vec2-base-960h](https://huggingface.co/facebook/wav2vec2-base-960h) on the test set.\n",
        "\n",
        "The base model is pretrained and fine-tuned on 960 hours of Librispeech on 16kHz sampled speech audio. When using the model make sure that your speech input is also sampled at 16Khz. \n"
      ]
    },
    {
      "cell_type": "code",
      "metadata": {
        "id": "UDovDeFg3cgC"
      },
      "source": [
        "processor = Wav2Vec2Processor.from_pretrained(\"facebook/wav2vec2-base-960h\")\n",
        "model = Wav2Vec2ForCTC.from_pretrained(\"facebook/wav2vec2-base-960h\")"
      ],
      "execution_count": null,
      "outputs": []
    },
    {
      "cell_type": "code",
      "metadata": {
        "colab": {
          "base_uri": "https://localhost:8080/"
        },
        "id": "YFsfI27y2fHl",
        "outputId": "bb25a3b4-1f04-4388-d839-c980972f5499"
      },
      "source": [
        "!pip install torchaudio\n",
        "!pip install ffmpeg-python\n",
        "import scipy\n",
        "import torchaudio"
      ],
      "execution_count": 41,
      "outputs": [
        {
          "output_type": "stream",
          "text": [
            "Collecting torchaudio\n",
            "\u001b[?25l  Downloading https://files.pythonhosted.org/packages/aa/55/01ad9244bcd595e39cea5ce30726a7fe02fd963d07daeb136bfe7e23f0a5/torchaudio-0.8.1-cp37-cp37m-manylinux1_x86_64.whl (1.9MB)\n",
            "\r\u001b[K     |▏                               | 10kB 23.3MB/s eta 0:00:01\r\u001b[K     |▍                               | 20kB 30.4MB/s eta 0:00:01\r\u001b[K     |▌                               | 30kB 22.5MB/s eta 0:00:01\r\u001b[K     |▊                               | 40kB 26.3MB/s eta 0:00:01\r\u001b[K     |▉                               | 51kB 26.0MB/s eta 0:00:01\r\u001b[K     |█                               | 61kB 28.5MB/s eta 0:00:01\r\u001b[K     |█▏                              | 71kB 25.3MB/s eta 0:00:01\r\u001b[K     |█▍                              | 81kB 24.6MB/s eta 0:00:01\r\u001b[K     |█▌                              | 92kB 26.2MB/s eta 0:00:01\r\u001b[K     |█▊                              | 102kB 24.4MB/s eta 0:00:01\r\u001b[K     |█▉                              | 112kB 24.4MB/s eta 0:00:01\r\u001b[K     |██                              | 122kB 24.4MB/s eta 0:00:01\r\u001b[K     |██▏                             | 133kB 24.4MB/s eta 0:00:01\r\u001b[K     |██▍                             | 143kB 24.4MB/s eta 0:00:01\r\u001b[K     |██▌                             | 153kB 24.4MB/s eta 0:00:01\r\u001b[K     |██▊                             | 163kB 24.4MB/s eta 0:00:01\r\u001b[K     |██▉                             | 174kB 24.4MB/s eta 0:00:01\r\u001b[K     |███                             | 184kB 24.4MB/s eta 0:00:01\r\u001b[K     |███▏                            | 194kB 24.4MB/s eta 0:00:01\r\u001b[K     |███▍                            | 204kB 24.4MB/s eta 0:00:01\r\u001b[K     |███▌                            | 215kB 24.4MB/s eta 0:00:01\r\u001b[K     |███▊                            | 225kB 24.4MB/s eta 0:00:01\r\u001b[K     |███▉                            | 235kB 24.4MB/s eta 0:00:01\r\u001b[K     |████                            | 245kB 24.4MB/s eta 0:00:01\r\u001b[K     |████▏                           | 256kB 24.4MB/s eta 0:00:01\r\u001b[K     |████▍                           | 266kB 24.4MB/s eta 0:00:01\r\u001b[K     |████▌                           | 276kB 24.4MB/s eta 0:00:01\r\u001b[K     |████▊                           | 286kB 24.4MB/s eta 0:00:01\r\u001b[K     |█████                           | 296kB 24.4MB/s eta 0:00:01\r\u001b[K     |█████                           | 307kB 24.4MB/s eta 0:00:01\r\u001b[K     |█████▎                          | 317kB 24.4MB/s eta 0:00:01\r\u001b[K     |█████▍                          | 327kB 24.4MB/s eta 0:00:01\r\u001b[K     |█████▋                          | 337kB 24.4MB/s eta 0:00:01\r\u001b[K     |█████▊                          | 348kB 24.4MB/s eta 0:00:01\r\u001b[K     |██████                          | 358kB 24.4MB/s eta 0:00:01\r\u001b[K     |██████                          | 368kB 24.4MB/s eta 0:00:01\r\u001b[K     |██████▎                         | 378kB 24.4MB/s eta 0:00:01\r\u001b[K     |██████▍                         | 389kB 24.4MB/s eta 0:00:01\r\u001b[K     |██████▋                         | 399kB 24.4MB/s eta 0:00:01\r\u001b[K     |██████▊                         | 409kB 24.4MB/s eta 0:00:01\r\u001b[K     |███████                         | 419kB 24.4MB/s eta 0:00:01\r\u001b[K     |███████                         | 430kB 24.4MB/s eta 0:00:01\r\u001b[K     |███████▎                        | 440kB 24.4MB/s eta 0:00:01\r\u001b[K     |███████▍                        | 450kB 24.4MB/s eta 0:00:01\r\u001b[K     |███████▋                        | 460kB 24.4MB/s eta 0:00:01\r\u001b[K     |███████▊                        | 471kB 24.4MB/s eta 0:00:01\r\u001b[K     |████████                        | 481kB 24.4MB/s eta 0:00:01\r\u001b[K     |████████                        | 491kB 24.4MB/s eta 0:00:01\r\u001b[K     |████████▎                       | 501kB 24.4MB/s eta 0:00:01\r\u001b[K     |████████▍                       | 512kB 24.4MB/s eta 0:00:01\r\u001b[K     |████████▋                       | 522kB 24.4MB/s eta 0:00:01\r\u001b[K     |████████▊                       | 532kB 24.4MB/s eta 0:00:01\r\u001b[K     |█████████                       | 542kB 24.4MB/s eta 0:00:01\r\u001b[K     |█████████                       | 552kB 24.4MB/s eta 0:00:01\r\u001b[K     |█████████▎                      | 563kB 24.4MB/s eta 0:00:01\r\u001b[K     |█████████▌                      | 573kB 24.4MB/s eta 0:00:01\r\u001b[K     |█████████▋                      | 583kB 24.4MB/s eta 0:00:01\r\u001b[K     |█████████▉                      | 593kB 24.4MB/s eta 0:00:01\r\u001b[K     |██████████                      | 604kB 24.4MB/s eta 0:00:01\r\u001b[K     |██████████▏                     | 614kB 24.4MB/s eta 0:00:01\r\u001b[K     |██████████▎                     | 624kB 24.4MB/s eta 0:00:01\r\u001b[K     |██████████▌                     | 634kB 24.4MB/s eta 0:00:01\r\u001b[K     |██████████▋                     | 645kB 24.4MB/s eta 0:00:01\r\u001b[K     |██████████▉                     | 655kB 24.4MB/s eta 0:00:01\r\u001b[K     |███████████                     | 665kB 24.4MB/s eta 0:00:01\r\u001b[K     |███████████▏                    | 675kB 24.4MB/s eta 0:00:01\r\u001b[K     |███████████▎                    | 686kB 24.4MB/s eta 0:00:01\r\u001b[K     |███████████▌                    | 696kB 24.4MB/s eta 0:00:01\r\u001b[K     |███████████▋                    | 706kB 24.4MB/s eta 0:00:01\r\u001b[K     |███████████▉                    | 716kB 24.4MB/s eta 0:00:01\r\u001b[K     |████████████                    | 727kB 24.4MB/s eta 0:00:01\r\u001b[K     |████████████▏                   | 737kB 24.4MB/s eta 0:00:01\r\u001b[K     |████████████▎                   | 747kB 24.4MB/s eta 0:00:01\r\u001b[K     |████████████▌                   | 757kB 24.4MB/s eta 0:00:01\r\u001b[K     |████████████▋                   | 768kB 24.4MB/s eta 0:00:01\r\u001b[K     |████████████▉                   | 778kB 24.4MB/s eta 0:00:01\r\u001b[K     |█████████████                   | 788kB 24.4MB/s eta 0:00:01\r\u001b[K     |█████████████▏                  | 798kB 24.4MB/s eta 0:00:01\r\u001b[K     |█████████████▎                  | 808kB 24.4MB/s eta 0:00:01\r\u001b[K     |█████████████▌                  | 819kB 24.4MB/s eta 0:00:01\r\u001b[K     |█████████████▋                  | 829kB 24.4MB/s eta 0:00:01\r\u001b[K     |█████████████▉                  | 839kB 24.4MB/s eta 0:00:01\r\u001b[K     |██████████████                  | 849kB 24.4MB/s eta 0:00:01\r\u001b[K     |██████████████▏                 | 860kB 24.4MB/s eta 0:00:01\r\u001b[K     |██████████████▍                 | 870kB 24.4MB/s eta 0:00:01\r\u001b[K     |██████████████▌                 | 880kB 24.4MB/s eta 0:00:01\r\u001b[K     |██████████████▊                 | 890kB 24.4MB/s eta 0:00:01\r\u001b[K     |██████████████▉                 | 901kB 24.4MB/s eta 0:00:01\r\u001b[K     |███████████████                 | 911kB 24.4MB/s eta 0:00:01\r\u001b[K     |███████████████▏                | 921kB 24.4MB/s eta 0:00:01\r\u001b[K     |███████████████▍                | 931kB 24.4MB/s eta 0:00:01\r\u001b[K     |███████████████▌                | 942kB 24.4MB/s eta 0:00:01\r\u001b[K     |███████████████▊                | 952kB 24.4MB/s eta 0:00:01\r\u001b[K     |███████████████▉                | 962kB 24.4MB/s eta 0:00:01\r\u001b[K     |████████████████                | 972kB 24.4MB/s eta 0:00:01\r\u001b[K     |████████████████▏               | 983kB 24.4MB/s eta 0:00:01\r\u001b[K     |████████████████▍               | 993kB 24.4MB/s eta 0:00:01\r\u001b[K     |████████████████▌               | 1.0MB 24.4MB/s eta 0:00:01\r\u001b[K     |████████████████▊               | 1.0MB 24.4MB/s eta 0:00:01\r\u001b[K     |████████████████▉               | 1.0MB 24.4MB/s eta 0:00:01\r\u001b[K     |█████████████████               | 1.0MB 24.4MB/s eta 0:00:01\r\u001b[K     |█████████████████▏              | 1.0MB 24.4MB/s eta 0:00:01\r\u001b[K     |█████████████████▍              | 1.1MB 24.4MB/s eta 0:00:01\r\u001b[K     |█████████████████▌              | 1.1MB 24.4MB/s eta 0:00:01\r\u001b[K     |█████████████████▊              | 1.1MB 24.4MB/s eta 0:00:01\r\u001b[K     |█████████████████▉              | 1.1MB 24.4MB/s eta 0:00:01\r\u001b[K     |██████████████████              | 1.1MB 24.4MB/s eta 0:00:01\r\u001b[K     |██████████████████▏             | 1.1MB 24.4MB/s eta 0:00:01\r\u001b[K     |██████████████████▍             | 1.1MB 24.4MB/s eta 0:00:01\r\u001b[K     |██████████████████▌             | 1.1MB 24.4MB/s eta 0:00:01\r\u001b[K     |██████████████████▊             | 1.1MB 24.4MB/s eta 0:00:01\r\u001b[K     |███████████████████             | 1.1MB 24.4MB/s eta 0:00:01\r\u001b[K     |███████████████████             | 1.2MB 24.4MB/s eta 0:00:01\r\u001b[K     |███████████████████▎            | 1.2MB 24.4MB/s eta 0:00:01\r\u001b[K     |███████████████████▍            | 1.2MB 24.4MB/s eta 0:00:01\r\u001b[K     |███████████████████▋            | 1.2MB 24.4MB/s eta 0:00:01\r\u001b[K     |███████████████████▊            | 1.2MB 24.4MB/s eta 0:00:01\r\u001b[K     |████████████████████            | 1.2MB 24.4MB/s eta 0:00:01\r\u001b[K     |████████████████████            | 1.2MB 24.4MB/s eta 0:00:01\r\u001b[K     |████████████████████▎           | 1.2MB 24.4MB/s eta 0:00:01\r\u001b[K     |████████████████████▍           | 1.2MB 24.4MB/s eta 0:00:01\r\u001b[K     |████████████████████▋           | 1.2MB 24.4MB/s eta 0:00:01\r\u001b[K     |████████████████████▊           | 1.3MB 24.4MB/s eta 0:00:01\r\u001b[K     |█████████████████████           | 1.3MB 24.4MB/s eta 0:00:01\r\u001b[K     |█████████████████████           | 1.3MB 24.4MB/s eta 0:00:01\r\u001b[K     |█████████████████████▎          | 1.3MB 24.4MB/s eta 0:00:01\r\u001b[K     |█████████████████████▍          | 1.3MB 24.4MB/s eta 0:00:01\r\u001b[K     |█████████████████████▋          | 1.3MB 24.4MB/s eta 0:00:01\r\u001b[K     |█████████████████████▊          | 1.3MB 24.4MB/s eta 0:00:01\r\u001b[K     |██████████████████████          | 1.3MB 24.4MB/s eta 0:00:01\r\u001b[K     |██████████████████████          | 1.3MB 24.4MB/s eta 0:00:01\r\u001b[K     |██████████████████████▎         | 1.4MB 24.4MB/s eta 0:00:01\r\u001b[K     |██████████████████████▍         | 1.4MB 24.4MB/s eta 0:00:01\r\u001b[K     |██████████████████████▋         | 1.4MB 24.4MB/s eta 0:00:01\r\u001b[K     |██████████████████████▊         | 1.4MB 24.4MB/s eta 0:00:01\r\u001b[K     |███████████████████████         | 1.4MB 24.4MB/s eta 0:00:01\r\u001b[K     |███████████████████████         | 1.4MB 24.4MB/s eta 0:00:01\r\u001b[K     |███████████████████████▎        | 1.4MB 24.4MB/s eta 0:00:01\r\u001b[K     |███████████████████████▌        | 1.4MB 24.4MB/s eta 0:00:01\r\u001b[K     |███████████████████████▋        | 1.4MB 24.4MB/s eta 0:00:01\r\u001b[K     |███████████████████████▉        | 1.4MB 24.4MB/s eta 0:00:01\r\u001b[K     |████████████████████████        | 1.5MB 24.4MB/s eta 0:00:01\r\u001b[K     |████████████████████████▏       | 1.5MB 24.4MB/s eta 0:00:01\r\u001b[K     |████████████████████████▎       | 1.5MB 24.4MB/s eta 0:00:01\r\u001b[K     |████████████████████████▌       | 1.5MB 24.4MB/s eta 0:00:01\r\u001b[K     |████████████████████████▋       | 1.5MB 24.4MB/s eta 0:00:01\r\u001b[K     |████████████████████████▉       | 1.5MB 24.4MB/s eta 0:00:01\r\u001b[K     |█████████████████████████       | 1.5MB 24.4MB/s eta 0:00:01\r\u001b[K     |█████████████████████████▏      | 1.5MB 24.4MB/s eta 0:00:01\r\u001b[K     |█████████████████████████▎      | 1.5MB 24.4MB/s eta 0:00:01\r\u001b[K     |█████████████████████████▌      | 1.5MB 24.4MB/s eta 0:00:01\r\u001b[K     |█████████████████████████▋      | 1.6MB 24.4MB/s eta 0:00:01\r\u001b[K     |█████████████████████████▉      | 1.6MB 24.4MB/s eta 0:00:01\r\u001b[K     |██████████████████████████      | 1.6MB 24.4MB/s eta 0:00:01\r\u001b[K     |██████████████████████████▏     | 1.6MB 24.4MB/s eta 0:00:01\r\u001b[K     |██████████████████████████▎     | 1.6MB 24.4MB/s eta 0:00:01\r\u001b[K     |██████████████████████████▌     | 1.6MB 24.4MB/s eta 0:00:01\r\u001b[K     |██████████████████████████▋     | 1.6MB 24.4MB/s eta 0:00:01\r\u001b[K     |██████████████████████████▉     | 1.6MB 24.4MB/s eta 0:00:01\r\u001b[K     |███████████████████████████     | 1.6MB 24.4MB/s eta 0:00:01\r\u001b[K     |███████████████████████████▏    | 1.6MB 24.4MB/s eta 0:00:01\r\u001b[K     |███████████████████████████▎    | 1.7MB 24.4MB/s eta 0:00:01\r\u001b[K     |███████████████████████████▌    | 1.7MB 24.4MB/s eta 0:00:01\r\u001b[K     |███████████████████████████▋    | 1.7MB 24.4MB/s eta 0:00:01\r\u001b[K     |███████████████████████████▉    | 1.7MB 24.4MB/s eta 0:00:01\r\u001b[K     |████████████████████████████    | 1.7MB 24.4MB/s eta 0:00:01\r\u001b[K     |████████████████████████████▏   | 1.7MB 24.4MB/s eta 0:00:01\r\u001b[K     |████████████████████████████▍   | 1.7MB 24.4MB/s eta 0:00:01\r\u001b[K     |████████████████████████████▌   | 1.7MB 24.4MB/s eta 0:00:01\r\u001b[K     |████████████████████████████▊   | 1.7MB 24.4MB/s eta 0:00:01\r\u001b[K     |████████████████████████████▉   | 1.8MB 24.4MB/s eta 0:00:01\r\u001b[K     |█████████████████████████████   | 1.8MB 24.4MB/s eta 0:00:01\r\u001b[K     |█████████████████████████████▏  | 1.8MB 24.4MB/s eta 0:00:01\r\u001b[K     |█████████████████████████████▍  | 1.8MB 24.4MB/s eta 0:00:01\r\u001b[K     |█████████████████████████████▌  | 1.8MB 24.4MB/s eta 0:00:01\r\u001b[K     |█████████████████████████████▊  | 1.8MB 24.4MB/s eta 0:00:01\r\u001b[K     |█████████████████████████████▉  | 1.8MB 24.4MB/s eta 0:00:01\r\u001b[K     |██████████████████████████████  | 1.8MB 24.4MB/s eta 0:00:01\r\u001b[K     |██████████████████████████████▏ | 1.8MB 24.4MB/s eta 0:00:01\r\u001b[K     |██████████████████████████████▍ | 1.8MB 24.4MB/s eta 0:00:01\r\u001b[K     |██████████████████████████████▌ | 1.9MB 24.4MB/s eta 0:00:01\r\u001b[K     |██████████████████████████████▊ | 1.9MB 24.4MB/s eta 0:00:01\r\u001b[K     |██████████████████████████████▉ | 1.9MB 24.4MB/s eta 0:00:01\r\u001b[K     |███████████████████████████████ | 1.9MB 24.4MB/s eta 0:00:01\r\u001b[K     |███████████████████████████████▏| 1.9MB 24.4MB/s eta 0:00:01\r\u001b[K     |███████████████████████████████▍| 1.9MB 24.4MB/s eta 0:00:01\r\u001b[K     |███████████████████████████████▌| 1.9MB 24.4MB/s eta 0:00:01\r\u001b[K     |███████████████████████████████▊| 1.9MB 24.4MB/s eta 0:00:01\r\u001b[K     |███████████████████████████████▉| 1.9MB 24.4MB/s eta 0:00:01\r\u001b[K     |████████████████████████████████| 1.9MB 24.4MB/s \n",
            "\u001b[?25hRequirement already satisfied: torch==1.8.1 in /usr/local/lib/python3.7/dist-packages (from torchaudio) (1.8.1+cu101)\n",
            "Requirement already satisfied: typing-extensions in /usr/local/lib/python3.7/dist-packages (from torch==1.8.1->torchaudio) (3.7.4.3)\n",
            "Requirement already satisfied: numpy in /usr/local/lib/python3.7/dist-packages (from torch==1.8.1->torchaudio) (1.19.5)\n",
            "Installing collected packages: torchaudio\n",
            "Successfully installed torchaudio-0.8.1\n",
            "Collecting ffmpeg-python\n",
            "  Downloading https://files.pythonhosted.org/packages/d7/0c/56be52741f75bad4dc6555991fabd2e07b432d333da82c11ad701123888a/ffmpeg_python-0.2.0-py3-none-any.whl\n",
            "Requirement already satisfied: future in /usr/local/lib/python3.7/dist-packages (from ffmpeg-python) (0.16.0)\n",
            "Installing collected packages: ffmpeg-python\n",
            "Successfully installed ffmpeg-python-0.2.0\n"
          ],
          "name": "stdout"
        }
      ]
    },
    {
      "cell_type": "code",
      "metadata": {
        "id": "e9CNIrVeCQhG"
      },
      "source": [
        "from IPython.display import HTML, Audio\n",
        "from google.colab.output import eval_js\n",
        "from base64 import b64decode\n",
        "import numpy as np\n",
        "from scipy.io.wavfile import read as wav_read\n",
        "import io\n",
        "import ffmpeg\n",
        "\n",
        "AUDIO_HTML = \"\"\"\n",
        "<script>\n",
        "var my_div = document.createElement(\"DIV\");\n",
        "var my_p = document.createElement(\"P\");\n",
        "var my_btn = document.createElement(\"BUTTON\");\n",
        "var t = document.createTextNode(\"Press to start recording\");\n",
        "\n",
        "my_btn.appendChild(t);\n",
        "//my_p.appendChild(my_btn);\n",
        "my_div.appendChild(my_btn);\n",
        "document.body.appendChild(my_div);\n",
        "\n",
        "var base64data = 0;\n",
        "var reader;\n",
        "var recorder, gumStream;\n",
        "var recordButton = my_btn;\n",
        "\n",
        "var handleSuccess = function(stream) {\n",
        "  gumStream = stream;\n",
        "  var options = {\n",
        "    //bitsPerSecond: 8000, //chrome seems to ignore, always 48k\n",
        "    mimeType : 'audio/webm;codecs=opus'\n",
        "    //mimeType : 'audio/webm;codecs=pcm'\n",
        "  };            \n",
        "  //recorder = new MediaRecorder(stream, options);\n",
        "  recorder = new MediaRecorder(stream);\n",
        "  recorder.ondataavailable = function(e) {            \n",
        "    var url = URL.createObjectURL(e.data);\n",
        "    var preview = document.createElement('audio');\n",
        "    preview.controls = true;\n",
        "    preview.src = url;\n",
        "    document.body.appendChild(preview);\n",
        "\n",
        "    reader = new FileReader();\n",
        "    reader.readAsDataURL(e.data); \n",
        "    reader.onloadend = function() {\n",
        "      base64data = reader.result;\n",
        "      //console.log(\"Inside FileReader:\" + base64data);\n",
        "    }\n",
        "  };\n",
        "  recorder.start();\n",
        "  };\n",
        "\n",
        "recordButton.innerText = \"Recording... press to stop\";\n",
        "\n",
        "navigator.mediaDevices.getUserMedia({audio: true}).then(handleSuccess);\n",
        "\n",
        "\n",
        "function toggleRecording() {\n",
        "  if (recorder && recorder.state == \"recording\") {\n",
        "      recorder.stop();\n",
        "      gumStream.getAudioTracks()[0].stop();\n",
        "      recordButton.innerText = \"Saving the recording... pls wait!\"\n",
        "  }\n",
        "}\n",
        "\n",
        "// https://stackoverflow.com/a/951057\n",
        "function sleep(ms) {\n",
        "  return new Promise(resolve => setTimeout(resolve, ms));\n",
        "}\n",
        "\n",
        "var data = new Promise(resolve=>{\n",
        "//recordButton.addEventListener(\"click\", toggleRecording);\n",
        "recordButton.onclick = ()=>{\n",
        "toggleRecording()\n",
        "\n",
        "sleep(2000).then(() => {\n",
        "  // wait 2000ms for the data to be available...\n",
        "  // ideally this should use something like await...\n",
        "  //console.log(\"Inside data:\" + base64data)\n",
        "  resolve(base64data.toString())\n",
        "\n",
        "});\n",
        "\n",
        "}\n",
        "});\n",
        "      \n",
        "</script>\n",
        "\"\"\"\n",
        "\n",
        "def get_audio():\n",
        "  display(HTML(AUDIO_HTML))\n",
        "  data = eval_js(\"data\")\n",
        "  binary = b64decode(data.split(',')[1])\n",
        "  \n",
        "  process = (ffmpeg\n",
        "    .input('pipe:0')\n",
        "    .output('pipe:1', format='wav')\n",
        "    .run_async(pipe_stdin=True, pipe_stdout=True, pipe_stderr=True, quiet=True, overwrite_output=True)\n",
        "  )\n",
        "  output, err = process.communicate(input=binary)\n",
        "  \n",
        "  riff_chunk_size = len(output) - 8\n",
        "  # Break up the chunk size into four bytes, held in b.\n",
        "  q = riff_chunk_size\n",
        "  b = []\n",
        "  for i in range(4):\n",
        "      q, r = divmod(q, 256)\n",
        "      b.append(r)\n",
        "\n",
        "  # Replace bytes 4:8 in proc.stdout with the actual size of the RIFF chunk.\n",
        "  riff = output[:4] + bytes(b) + output[8:]\n",
        "\n",
        "  sr, audio = wav_read(io.BytesIO(riff))\n",
        "\n",
        "  return audio, sr"
      ],
      "execution_count": 42,
      "outputs": []
    },
    {
      "cell_type": "markdown",
      "metadata": {
        "id": "xUguWMR_xYxs"
      },
      "source": [
        "Speak, record and save the audio in a .wav file."
      ]
    },
    {
      "cell_type": "code",
      "metadata": {
        "colab": {
          "base_uri": "https://localhost:8080/",
          "height": 96
        },
        "id": "qZ1fr0NvCTXB",
        "outputId": "4ac38a78-fbd1-4bf6-ad65-95d583e1bb8e"
      },
      "source": [
        "audio, sr = get_audio()\n",
        "scipy.io.wavfile.write('./recording.wav', sr, audio)"
      ],
      "execution_count": 43,
      "outputs": [
        {
          "output_type": "display_data",
          "data": {
            "text/html": [
              "\n",
              "<script>\n",
              "var my_div = document.createElement(\"DIV\");\n",
              "var my_p = document.createElement(\"P\");\n",
              "var my_btn = document.createElement(\"BUTTON\");\n",
              "var t = document.createTextNode(\"Press to start recording\");\n",
              "\n",
              "my_btn.appendChild(t);\n",
              "//my_p.appendChild(my_btn);\n",
              "my_div.appendChild(my_btn);\n",
              "document.body.appendChild(my_div);\n",
              "\n",
              "var base64data = 0;\n",
              "var reader;\n",
              "var recorder, gumStream;\n",
              "var recordButton = my_btn;\n",
              "\n",
              "var handleSuccess = function(stream) {\n",
              "  gumStream = stream;\n",
              "  var options = {\n",
              "    //bitsPerSecond: 8000, //chrome seems to ignore, always 48k\n",
              "    mimeType : 'audio/webm;codecs=opus'\n",
              "    //mimeType : 'audio/webm;codecs=pcm'\n",
              "  };            \n",
              "  //recorder = new MediaRecorder(stream, options);\n",
              "  recorder = new MediaRecorder(stream);\n",
              "  recorder.ondataavailable = function(e) {            \n",
              "    var url = URL.createObjectURL(e.data);\n",
              "    var preview = document.createElement('audio');\n",
              "    preview.controls = true;\n",
              "    preview.src = url;\n",
              "    document.body.appendChild(preview);\n",
              "\n",
              "    reader = new FileReader();\n",
              "    reader.readAsDataURL(e.data); \n",
              "    reader.onloadend = function() {\n",
              "      base64data = reader.result;\n",
              "      //console.log(\"Inside FileReader:\" + base64data);\n",
              "    }\n",
              "  };\n",
              "  recorder.start();\n",
              "  };\n",
              "\n",
              "recordButton.innerText = \"Recording... press to stop\";\n",
              "\n",
              "navigator.mediaDevices.getUserMedia({audio: true}).then(handleSuccess);\n",
              "\n",
              "\n",
              "function toggleRecording() {\n",
              "  if (recorder && recorder.state == \"recording\") {\n",
              "      recorder.stop();\n",
              "      gumStream.getAudioTracks()[0].stop();\n",
              "      recordButton.innerText = \"Saving the recording... pls wait!\"\n",
              "  }\n",
              "}\n",
              "\n",
              "// https://stackoverflow.com/a/951057\n",
              "function sleep(ms) {\n",
              "  return new Promise(resolve => setTimeout(resolve, ms));\n",
              "}\n",
              "\n",
              "var data = new Promise(resolve=>{\n",
              "//recordButton.addEventListener(\"click\", toggleRecording);\n",
              "recordButton.onclick = ()=>{\n",
              "toggleRecording()\n",
              "\n",
              "sleep(2000).then(() => {\n",
              "  // wait 2000ms for the data to be available...\n",
              "  // ideally this should use something like await...\n",
              "  //console.log(\"Inside data:\" + base64data)\n",
              "  resolve(base64data.toString())\n",
              "\n",
              "});\n",
              "\n",
              "}\n",
              "});\n",
              "      \n",
              "</script>\n"
            ],
            "text/plain": [
              "<IPython.core.display.HTML object>"
            ]
          },
          "metadata": {
            "tags": []
          }
        }
      ]
    },
    {
      "cell_type": "markdown",
      "metadata": {
        "id": "IqU4HVg8w0qJ"
      },
      "source": [
        "Since, the model is trained on 16kHz speech, the input to it should be an audio file with the same sampling rate. The user's recording will have 48000 kHz sampling rate. To match the two, we create a resampler using torchaudio and resample the audio to 16000 kHz."
      ]
    },
    {
      "cell_type": "code",
      "metadata": {
        "id": "G33tf12bBry-"
      },
      "source": [
        "waveform, sample_rate = torchaudio.load(\"./recording.wav\")\n",
        "Resample = torchaudio.transforms.Resample(orig_freq = 48000, new_freq = 16000, resampling_method = 'sinc_interpolation')\n",
        "waveform, sample_rate = Resample.forward(waveform), 16000"
      ],
      "execution_count": 44,
      "outputs": []
    },
    {
      "cell_type": "markdown",
      "metadata": {
        "id": "r6Aj2eMUxhLc"
      },
      "source": [
        "This function will take the resampled waveform vector and correct sampling rate to generate the transcriptions using the wav2vec2-base-960h model."
      ]
    },
    {
      "cell_type": "code",
      "metadata": {
        "id": "K1Tsjeq66HKD",
        "colab": {
          "base_uri": "https://localhost:8080/",
          "height": 35
        },
        "outputId": "8879fe69-0e6e-4dc4-ba66-e102c8ace0b6"
      },
      "source": [
        "def interactive():\n",
        "  model.to(\"cuda\")\n",
        "  input_values = processor(\n",
        "      waveform[0].tolist(), \n",
        "      sampling_rate=sample_rate, \n",
        "      return_tensors=\"pt\"\n",
        "  ).input_values.to(\"cuda\")\n",
        "\n",
        "  with torch.no_grad():\n",
        "    logits = model(input_values).logits\n",
        "\n",
        "  pred_ids = torch.argmax(logits, dim=-1)\n",
        "  # batch[\"pred_str\"] = processor.batch_decode(pred_ids)[0]\n",
        "  pred_str = processor.batch_decode(pred_ids)[0]\n",
        "  return pred_str.lower()\n",
        "\n",
        "interactive()"
      ],
      "execution_count": 45,
      "outputs": [
        {
          "output_type": "execute_result",
          "data": {
            "application/vnd.google.colaboratory.intrinsic+json": {
              "type": "string"
            },
            "text/plain": [
              "'this is a wok shop on natural language processing'"
            ]
          },
          "metadata": {
            "tags": []
          },
          "execution_count": 45
        }
      ]
    },
    {
      "cell_type": "markdown",
      "metadata": {
        "id": "S91bMTxeyAms"
      },
      "source": [
        "Repeat the execution of last three cells to record different utterances and observe the transcriptions. "
      ]
    },
    {
      "cell_type": "markdown",
      "metadata": {
        "id": "9lrZOI9SJ7QS"
      },
      "source": [
        "**References**\n",
        "\n",
        "1.   Fine-Tune Wav2Vec2 for English ASR with 🤗 Transformers ([https://huggingface.co/blog/fine-tune-wav2vec2-english](https://huggingface.co/blog/fine-tune-wav2vec2-english))\n",
        "2.   Pytorch (https://pytorch.org/)\n",
        "3.   Torchaudio (https://pytorch.org/audio/stable/index.html)\n",
        "4.   Soundfile (https://pypi.org/project/SoundFile/)\n",
        "5.   Jiwer (https://pypi.org/project/jiwer/)\n",
        "6.   https://blog.addpipe.com/recording-audio-in-the-browser-using-pure-html5-and-minimal-javascript/\n",
        "7.   https://stackoverflow.com/a/18650249\n",
        "8.   https://hacks.mozilla.org/2014/06/easy-audio-capture-with-the-mediarecorder-api/\n",
        "9.   https://air.ghost.io/recording-to-an-audio-file-using-html5-and-js/\n",
        "10.  https://stackoverflow.com/a/49019356\n",
        "\n"
      ]
    }
  ]
}